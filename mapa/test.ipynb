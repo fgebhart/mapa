{
 "cells": [
  {
   "cell_type": "code",
   "execution_count": 3,
   "metadata": {},
   "outputs": [],
   "source": [
    "import pystac\n",
    "import planetary_computer\n",
    "import rioxarray\n",
    "\n",
    "# item_url = \"https://planetarycomputer.microsoft.com/api/stac/v1/collections/alos-dem/items/ALPSMLC30_S025E044_DSM\"\n",
    "item_url = \"https://planetarycomputer.microsoft.com/api/stac/v1/collections/alos-dem/items/ALPSMLC30_N025E025_DSM\"\n",
    "# item_url = \"https://planetarycomputer.microsoft.com/api/stac/v1\""
   ]
  },
  {
   "cell_type": "code",
   "execution_count": 5,
   "metadata": {},
   "outputs": [
    {
     "data": {
      "text/html": [
       "&lt;Item id=ALPSMLC30_N025E025_DSM&gt;"
      ],
      "text/plain": [
       "<Item id=ALPSMLC30_N025E025_DSM>"
      ]
     },
     "execution_count": 5,
     "metadata": {},
     "output_type": "execute_result"
    }
   ],
   "source": [
    "# Load the individual item metadata and sign the assets\n",
    "item = pystac.Item.from_file(item_url)\n",
    "item"
   ]
  },
  {
   "cell_type": "code",
   "execution_count": 6,
   "metadata": {},
   "outputs": [
    {
     "data": {
      "text/html": [
       "&lt;Item id=ALPSMLC30_N025E025_DSM&gt;"
      ],
      "text/plain": [
       "<Item id=ALPSMLC30_N025E025_DSM>"
      ]
     },
     "execution_count": 6,
     "metadata": {},
     "output_type": "execute_result"
    }
   ],
   "source": [
    "signed_item = planetary_computer.sign(item)\n",
    "signed_item"
   ]
  },
  {
   "cell_type": "code",
   "execution_count": 9,
   "metadata": {},
   "outputs": [
    {
     "data": {
      "text/plain": [
       "'https://ai4edataeuwest.blob.core.windows.net/alos-dem/AW3D30_global/ALPSMLC30_N025E025_DSM.tif'"
      ]
     },
     "execution_count": 9,
     "metadata": {},
     "output_type": "execute_result"
    }
   ],
   "source": [
    "# Open one of the data assets \n",
    "asset_href = item.assets[\"data\"].href\n",
    "asset_href\n",
    "# ds = rioxarray.open_rasterio(asset_href)\n",
    "# ds"
   ]
  },
  {
   "cell_type": "code",
   "execution_count": 8,
   "metadata": {},
   "outputs": [
    {
     "data": {
      "text/plain": [
       "'https://ai4edataeuwest.blob.core.windows.net/alos-dem/AW3D30_global/ALPSMLC30_N025E025_DSM.tif?st=2024-10-26T18%3A58%3A20Z&se=2024-10-27T19%3A43%3A20Z&sp=rl&sv=2024-05-04&sr=c&skoid=9c8ff44a-6a2c-4dfb-b298-1c9212f64d9a&sktid=72f988bf-86f1-41af-91ab-2d7cd011db47&skt=2024-10-27T14%3A16%3A22Z&ske=2024-11-03T14%3A16%3A22Z&sks=b&skv=2024-05-04&sig=E6V4kgv4wXmu1Pib6WncldWBCa94/cNnvbJtHoIaQlU%3D'"
      ]
     },
     "execution_count": 8,
     "metadata": {},
     "output_type": "execute_result"
    }
   ],
   "source": [
    "# Open one of the data assets \n",
    "asset_href = item.assets[\"data\"].href\n",
    "asset_href\n",
    "# ds = rioxarray.open_rasterio(asset_href)\n",
    "# ds"
   ]
  },
  {
   "cell_type": "code",
   "execution_count": null,
   "metadata": {},
   "outputs": [],
   "source": [
    "# Open one of the data assets \n",
    "asset_href = signed_item.assets[\"data\"].href\n",
    "ds = rioxarray.open_rasterio(asset_href)\n",
    "ds"
   ]
  }
 ],
 "metadata": {
  "kernelspec": {
   "display_name": "venv",
   "language": "python",
   "name": "python3"
  },
  "language_info": {
   "codemirror_mode": {
    "name": "ipython",
    "version": 3
   },
   "file_extension": ".py",
   "mimetype": "text/x-python",
   "name": "python",
   "nbconvert_exporter": "python",
   "pygments_lexer": "ipython3",
   "version": "3.12.4"
  }
 },
 "nbformat": 4,
 "nbformat_minor": 2
}
