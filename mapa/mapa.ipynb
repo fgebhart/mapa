{
 "cells": [
  {
   "cell_type": "markdown",
   "id": "74f3faa9",
   "metadata": {},
   "source": [
    "# mapa\n",
    "\n",
    "Execute the below cells to draw a rectangle of your choice, from which you want a 3D stl to be created."
   ]
  },
  {
   "cell_type": "code",
   "execution_count": 4,
   "id": "9db38262",
   "metadata": {},
   "outputs": [],
   "source": [
    "from mapa import convert_bbox_to_stl\n",
    "from mapa.map import show_map"
   ]
  },
  {
   "cell_type": "code",
   "execution_count": 5,
   "id": "7eac4bec",
   "metadata": {
    "scrolled": false
   },
   "outputs": [
    {
     "data": {
      "application/vnd.jupyter.widget-view+json": {
       "model_id": "b2aebbf8442a47cfb27c644372ea2eb6",
       "version_major": 2,
       "version_minor": 0
      },
      "text/plain": [
       "Map(center=[40.5566, 23.466], controls=(ZoomControl(options=['position', 'zoom_in_text', 'zoom_in_title', 'zoo…"
      ]
     },
     "metadata": {},
     "output_type": "display_data"
    },
    {
     "name": "stdout",
     "output_type": "stream",
     "text": [
      "Rectangle detected, execute next cells to continue!\n"
     ]
    }
   ],
   "source": [
    "m, drawer = show_map()\n",
    "m"
   ]
  },
  {
   "cell_type": "markdown",
   "id": "b9240b0b",
   "metadata": {},
   "source": [
    "⚠️ First draw a rectangle on the above map before executing the next cell!"
   ]
  },
  {
   "cell_type": "code",
   "execution_count": 9,
   "id": "39c8fef3",
   "metadata": {
    "scrolled": true
   },
   "outputs": [
    {
     "name": "stderr",
     "output_type": "stream",
     "text": [
      "INFO:mapa:⏳  converting bounding box to STL file with arguments: {'bbox_geometry': {'type': 'Polygon', 'coordinates': [[[8.184646, 46.597374], [8.184646, 47.108271], [9.085494, 47.108271], [9.085494, 46.597374], [8.184646, 46.597374]]]}, 'as_ascii': False, 'model_size': 150, 'output_file': 'mapa_output', 'max_res': False, 'z_offset': 3.0, 'z_scale': 2.0, 'cut_to_format_ratio': None, 'split_area_in_tiles': '1x1', 'compress': False, 'allow_caching': True, 'cache_dir': '/home/fabian/make/mapa/cache/', 'tiles': TileFormat(x=1, y=1)}\n",
      "INFO:mapa.stac:⬇️  fetching 4 stac items...\n",
      "INFO:mapa.stac:🚀  1/4 using cached stac item ALPSMLC30_N047E009_DSM\n",
      "INFO:mapa.stac:🚀  2/4 using cached stac item ALPSMLC30_N047E008_DSM\n",
      "INFO:mapa.stac:🚀  3/4 using cached stac item ALPSMLC30_N046E009_DSM\n",
      "INFO:mapa.stac:🚀  4/4 using cached stac item ALPSMLC30_N046E008_DSM\n",
      "INFO:mapa:🎉  successfully generated STL file: /home/fabian/make/mapa/mapa/mapa_output.stl\n"
     ]
    }
   ],
   "source": [
    "path = convert_bbox_to_stl(\n",
    "    bbox_geometry=drawer.last_draw[\"geometry\"],\n",
    "    output_file=\"mapa_output\",\n",
    "    model_size=150,\n",
    "    z_offset=3.0,\n",
    "    z_scale=2.0,\n",
    "    max_res=False,\n",
    "    cut_to_format_ratio=None,\n",
    "    split_area_in_tiles=\"1x1\",\n",
    "    compress=False,\n",
    "    cache_dir=\"/home/fabian/make/mapa/cache/\"\n",
    ")"
   ]
  },
  {
   "cell_type": "markdown",
   "id": "d29e1ade",
   "metadata": {},
   "source": [
    "<br>\n",
    "<br>\n",
    "<br>\n",
    "<br>\n",
    "\n",
    "For more info on the available arguments, simply print the function docstrings:"
   ]
  },
  {
   "cell_type": "code",
   "execution_count": 7,
   "id": "cd7e9b13",
   "metadata": {},
   "outputs": [
    {
     "name": "stdout",
     "output_type": "stream",
     "text": [
      "\n",
      "    Takes a GeoJSON containing a bounding box as input, fetches the required STAC GeoTIFFs for the\n",
      "    given bounding box and creates a STL file with elevation data from the GeoTIFFs.\n",
      "\n",
      "    Parameters\n",
      "    ----------\n",
      "    bbox_geometry : dict\n",
      "        GeoJSON containing the coordinates of the bounding box, selected on the ipyleaflet widget. Usually the\n",
      "        value of `drawer.last_draw[\"geometry\"]` is used for this.\n",
      "    as_ascii : bool, optional\n",
      "        Save output STL as ascii file. If False, output file will be binary. By default False\n",
      "    model_size : int, optional\n",
      "        Desired size of the (larger side of the) generated 3d model in millimeter. By default 200\n",
      "    output_file : str, optional\n",
      "        Name and path to output file. File ending should not be provided. Mapa will add .zip or .stl depending\n",
      "        on the settings. By default \"output\"\n",
      "    max_res : bool, optional\n",
      "        Whether maximum resolution should be used. Note, that this flag potentially increases compute time\n",
      "        and memory consumption dramatically. The default behavior (i.e. max_res=False) should return 3d models\n",
      "        with sufficient resolution, while the output stl file should be < ~300 MB. By default False\n",
      "    z_offset : Union[None, float], optional\n",
      "        Offset distance in millimeter to be put below the 3d model. Is not influenced by z-scale. Set to None\n",
      "        if you want your model to have the natural offset, corresponding to height above mean sea level.\n",
      "        By default 0.0\n",
      "    z_scale : float, optional\n",
      "        Value to be multiplied to the z-axis elevation data to scale up the height of the model. By default 1.0\n",
      "    cut_to_format_ratio : Union[None, float], optional\n",
      "        Cut the input tiff file to a specified format. Set to `1` if you want the output model to be squared.\n",
      "        Set to `0.5` if you want one side to be half the length of the other side. Omit this flag to keep the\n",
      "        input format. This option is particularly useful when an exact output format ratio is required for\n",
      "        example when planning to put the 3d printed model into a picture frame. Using this option will always\n",
      "        try to cut the shorter side of the input tiff. By default None\n",
      "    split_area_in_tiles : str, optional\n",
      "        Split the selected bounding box into tiles with this option. The allowed format of a given string is\n",
      "        \"nxm\" e.g. \"1x1\", \"2x3\", \"4x4\" or similar, where \"1x1\" would not split at all and result in only\n",
      "        one stl file. If an allowed tile format is specified, `nxm` stl files will be computed. By default \"1x1\"\n",
      "    compress : bool, optional\n",
      "        If enabled, the output stl file(s) will be compressed to a zip file. Compressing is recommended as it\n",
      "        reduces the data volume of typical stl files by a factor of ~4.\n",
      "    allow_caching : bool, optional\n",
      "        Whether caching previous downloaded GeoTIFF files should be enabled/disabled. By default True\n",
      "    cache_dir: Union[Path, str]\n",
      "        Path to a directory which should be used as local cache. This is helpful when intermediary tiff files\n",
      "        should be persisted even after the temp directory gets cleaned-up by e.g. a restart. By default TMPDIR\n",
      "    progress_bar : Union[None, object], optional\n",
      "        A streamlit progress bar object can be used to indicate the progress of downloading the STAC items. By\n",
      "        default None\n",
      "\n",
      "    Returns\n",
      "    -------\n",
      "    Union[Path, List[Path]]\n",
      "        Path or list of paths to the resulting output file(s) on your local machine.\n",
      "    \n"
     ]
    }
   ],
   "source": [
    "print(convert_bbox_to_stl.__doc__)"
   ]
  },
  {
   "cell_type": "code",
   "execution_count": null,
   "id": "551ff015",
   "metadata": {},
   "outputs": [],
   "source": []
  }
 ],
 "metadata": {
  "kernelspec": {
   "display_name": "Python 3 (ipykernel)",
   "language": "python",
   "name": "python3"
  },
  "language_info": {
   "codemirror_mode": {
    "name": "ipython",
    "version": 3
   },
   "file_extension": ".py",
   "mimetype": "text/x-python",
   "name": "python",
   "nbconvert_exporter": "python",
   "pygments_lexer": "ipython3",
   "version": "3.10.6"
  },
  "vscode": {
   "interpreter": {
    "hash": "b180940d96842eeb51e90b9226d375656a34d24cb9662ea3131cf2ed08dd630d"
   }
  }
 },
 "nbformat": 4,
 "nbformat_minor": 5
}
