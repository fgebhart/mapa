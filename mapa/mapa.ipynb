{
 "cells": [
  {
   "cell_type": "markdown",
   "id": "74f3faa9",
   "metadata": {},
   "source": [
    "# mapa\n",
    "\n",
    "Execute the below cells to draw a rectangle of your choice, from which you want a 3D stl to be created."
   ]
  },
  {
   "cell_type": "code",
   "execution_count": 1,
   "id": "9db38262",
   "metadata": {},
   "outputs": [],
   "source": [
    "from mapa import convert_bbox_to_stl\n",
    "from mapa.map import show_map"
   ]
  },
  {
   "cell_type": "code",
   "execution_count": 2,
   "id": "7eac4bec",
   "metadata": {
    "scrolled": false
   },
   "outputs": [
    {
     "data": {
      "application/vnd.jupyter.widget-view+json": {
       "model_id": "5548cc169d75427eaefa57f4eee343de",
       "version_major": 2,
       "version_minor": 0
      },
      "text/plain": [
       "Map(center=[40.5566, 23.466], controls=(ZoomControl(options=['position', 'zoom_in_text', 'zoom_in_title', 'zoo…"
      ]
     },
     "metadata": {},
     "output_type": "display_data"
    },
    {
     "name": "stdout",
     "output_type": "stream",
     "text": [
      "Rectangle detected, execute next cells to continue!\n"
     ]
    }
   ],
   "source": [
    "m, drawer = show_map()\n",
    "m"
   ]
  },
  {
   "cell_type": "markdown",
   "id": "b9240b0b",
   "metadata": {},
   "source": [
    "⚠️ First draw a rectangle on the above map before executing the next cell!"
   ]
  },
  {
   "cell_type": "code",
   "execution_count": 3,
   "id": "39c8fef3",
   "metadata": {
    "scrolled": true
   },
   "outputs": [
    {
     "name": "stdout",
     "output_type": "stream",
     "text": [
      "⏳  converting bounding box to STL file... \n",
      "\n",
      "⬇️  fetching 2 stac items...\n",
      "🏞  downloading stac item ALPSMLC30_N046E008_DSM   ✅ (6.4s)            \n",
      "🏞  downloading stac item ALPSMLC30_N046E007_DSM   ✅ (5.0s)            \n",
      "🔪  clipping region of interest...                 ✅ (0.1s)            \n",
      "🗺  creating base raster for tiff...               ✅ (0.8s)            \n",
      "⛰  computing triangles of 3d surface...           ✅ (1.5s)            \n",
      "📐  computing triangles of body sides...           ✅ (0.2s)            \n",
      "💾  saving data to stl file...                     ✅ (0.9s)            \n",
      "\n",
      "🎉  successfully generated STL file: /home/fabian/make/mapa/mapa/output.stl\n"
     ]
    }
   ],
   "source": [
    "stl_file_name = \"output.stl\"\n",
    "\n",
    "path = convert_bbox_to_stl(\n",
    "    bbox_geometry=drawer.last_draw[\"geometry\"],\n",
    "    output_file=stl_file_name,\n",
    "    model_size=200,\n",
    "    z_offset=3.0,\n",
    "    z_scale=2.0,\n",
    "    max_res=False,\n",
    "    cut_to_format_ratio=None,\n",
    ")"
   ]
  },
  {
   "cell_type": "markdown",
   "id": "d29e1ade",
   "metadata": {},
   "source": [
    "<br>\n",
    "<br>\n",
    "<br>\n",
    "<br>\n",
    "\n",
    "For more info on the available arguments, simply print the function docstrings:"
   ]
  },
  {
   "cell_type": "code",
   "execution_count": 9,
   "id": "cd7e9b13",
   "metadata": {},
   "outputs": [
    {
     "name": "stdout",
     "output_type": "stream",
     "text": [
      "\n",
      "    Takes a GeoJSON containing a bounding box as input, fetches the required STAC GeoTIFFs for the\n",
      "    given bounding box and creates a STL file with elevation data from the GeoTIFFs.\n",
      "\n",
      "    Parameters\n",
      "    ----------\n",
      "    bbox_geometry : dict\n",
      "        GeoJSON containing the coordinates of the bounding box, selected on the ipyleaflet widget.\n",
      "        Usually the value of `drawer.last_draw[\"geometry\"]` is used for this.\n",
      "    as_ascii : bool, optional\n",
      "        Save output STL as ascii file. If False, output file will be binary. By default False\n",
      "    model_size : int, optional\n",
      "        Desired size of the (larger side of the) generated 3d model in millimeter. By default 200\n",
      "    output_file : str, optional\n",
      "        Path to output STL file. By default \"output.stl\"\n",
      "    max_res : bool, optional\n",
      "        Whether maximum resolution should be used. Note, that this flag potentially increases compute time\n",
      "        and memory consumption dramatically. The default behavior (i.e. max_res=False) should return 3d models\n",
      "        with sufficient resolution, while the output stl file should be < ~300 MB. By default False\n",
      "    z_offset : float, optional\n",
      "        Offset distance in millimeter to be put below the 3d model. Is not influenced by z-scale.\n",
      "        By default 0.0\n",
      "    z_scale : float, optional\n",
      "        Value to be multiplied to the z-axis elevation data to scale up the height of the model.\n",
      "        By default 1.0\n",
      "    cut_to_format_ratio : Union[None, float], optional\n",
      "        Cut the input tiff file to a specified format. Set to `1` if you want the output model to be squared.\n",
      "        Set to `0.5` if you want one side to be half the length of the other side. Omit this flag to keep the\n",
      "        input format. This option is particularly useful when an exact output format ratio is required for\n",
      "        example when planning to put the 3d printed model into a picture frame. Using this option will always\n",
      "        try to cut the shorter side of the input tiff. By default None\n",
      "    allow_caching : bool, optional\n",
      "        Whether caching previous downloaded GeoTIFF files should be enabled/disabled. By default True\n",
      "\n",
      "    Returns\n",
      "    -------\n",
      "    Path\n",
      "        Path to the resulting STL file on your local machine.\n",
      "    \n"
     ]
    }
   ],
   "source": [
    "print(convert_bbox_to_stl.__doc__)"
   ]
  },
  {
   "cell_type": "code",
   "execution_count": null,
   "id": "954f9732",
   "metadata": {},
   "outputs": [],
   "source": []
  }
 ],
 "metadata": {
  "kernelspec": {
   "display_name": "Python 3 (ipykernel)",
   "language": "python",
   "name": "python3"
  },
  "language_info": {
   "codemirror_mode": {
    "name": "ipython",
    "version": 3
   },
   "file_extension": ".py",
   "mimetype": "text/x-python",
   "name": "python",
   "nbconvert_exporter": "python",
   "pygments_lexer": "ipython3",
   "version": "3.8.10"
  }
 },
 "nbformat": 4,
 "nbformat_minor": 5
}
