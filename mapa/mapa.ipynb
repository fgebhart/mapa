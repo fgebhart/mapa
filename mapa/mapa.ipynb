{
 "cells": [
  {
   "cell_type": "markdown",
   "id": "74f3faa9",
   "metadata": {},
   "source": [
    "# mapa\n",
    "\n",
    "Execute the below cells to draw a rectangle of your choice, from which you want a 3D stl to be created."
   ]
  },
  {
   "cell_type": "code",
   "execution_count": 1,
   "id": "9db38262",
   "metadata": {},
   "outputs": [],
   "source": [
    "from mapa import convert_bbox_to_stl\n",
    "from mapa.map import show_map"
   ]
  },
  {
   "cell_type": "code",
   "execution_count": 2,
   "id": "7eac4bec",
   "metadata": {
    "scrolled": false
   },
   "outputs": [
    {
     "data": {
      "application/vnd.jupyter.widget-view+json": {
       "model_id": "385f4361f8c94383b6b7d36c4fb8888c",
       "version_major": 2,
       "version_minor": 0
      },
      "text/plain": [
       "Map(center=[40.5566, 23.466], controls=(ZoomControl(options=['position', 'zoom_in_text', 'zoom_in_title', 'zoo…"
      ]
     },
     "metadata": {},
     "output_type": "display_data"
    }
   ],
   "source": [
    "m, drawer = show_map()\n",
    "m"
   ]
  },
  {
   "cell_type": "markdown",
   "id": "b9240b0b",
   "metadata": {},
   "source": [
    "⚠️ First draw a rectangle on the above map before executing the next cell!"
   ]
  },
  {
   "cell_type": "code",
   "execution_count": 3,
   "id": "39c8fef3",
   "metadata": {
    "scrolled": true
   },
   "outputs": [
    {
     "ename": "ValueError",
     "evalue": "⛔️  ERROR: make sure to draw a rectangle on the map first!",
     "output_type": "error",
     "traceback": [
      "\u001b[0;31m---------------------------------------------------------------------------\u001b[0m",
      "\u001b[0;31mValueError\u001b[0m                                Traceback (most recent call last)",
      "Input \u001b[0;32mIn [3]\u001b[0m, in \u001b[0;36m<cell line: 1>\u001b[0;34m()\u001b[0m\n\u001b[0;32m----> 1\u001b[0m path \u001b[38;5;241m=\u001b[39m \u001b[43mconvert_bbox_to_stl\u001b[49m\u001b[43m(\u001b[49m\n\u001b[1;32m      2\u001b[0m \u001b[43m    \u001b[49m\u001b[43mbbox_geometry\u001b[49m\u001b[38;5;241;43m=\u001b[39;49m\u001b[43mdrawer\u001b[49m\u001b[38;5;241;43m.\u001b[39;49m\u001b[43mlast_draw\u001b[49m\u001b[43m[\u001b[49m\u001b[38;5;124;43m\"\u001b[39;49m\u001b[38;5;124;43mgeometry\u001b[39;49m\u001b[38;5;124;43m\"\u001b[39;49m\u001b[43m]\u001b[49m\u001b[43m,\u001b[49m\n\u001b[1;32m      3\u001b[0m \u001b[43m    \u001b[49m\u001b[43moutput_file\u001b[49m\u001b[38;5;241;43m=\u001b[39;49m\u001b[38;5;124;43m\"\u001b[39;49m\u001b[38;5;124;43mmapa_output\u001b[39;49m\u001b[38;5;124;43m\"\u001b[39;49m\u001b[43m,\u001b[49m\n\u001b[1;32m      4\u001b[0m \u001b[43m    \u001b[49m\u001b[43mmodel_size\u001b[49m\u001b[38;5;241;43m=\u001b[39;49m\u001b[38;5;241;43m200\u001b[39;49m\u001b[43m,\u001b[49m\n\u001b[1;32m      5\u001b[0m \u001b[43m    \u001b[49m\u001b[43mz_offset\u001b[49m\u001b[38;5;241;43m=\u001b[39;49m\u001b[38;5;241;43m3.0\u001b[39;49m\u001b[43m,\u001b[49m\n\u001b[1;32m      6\u001b[0m \u001b[43m    \u001b[49m\u001b[43mz_scale\u001b[49m\u001b[38;5;241;43m=\u001b[39;49m\u001b[38;5;241;43m2.0\u001b[39;49m\u001b[43m,\u001b[49m\n\u001b[1;32m      7\u001b[0m \u001b[43m    \u001b[49m\u001b[43mmax_res\u001b[49m\u001b[38;5;241;43m=\u001b[39;49m\u001b[38;5;28;43;01mFalse\u001b[39;49;00m\u001b[43m,\u001b[49m\n\u001b[1;32m      8\u001b[0m \u001b[43m    \u001b[49m\u001b[43mcut_to_format_ratio\u001b[49m\u001b[38;5;241;43m=\u001b[39;49m\u001b[38;5;28;43;01mNone\u001b[39;49;00m\u001b[43m,\u001b[49m\n\u001b[1;32m      9\u001b[0m \u001b[43m    \u001b[49m\u001b[43msplit_area_in_tiles\u001b[49m\u001b[38;5;241;43m=\u001b[39;49m\u001b[38;5;124;43m\"\u001b[39;49m\u001b[38;5;124;43m1x1\u001b[39;49m\u001b[38;5;124;43m\"\u001b[39;49m\u001b[43m,\u001b[49m\n\u001b[1;32m     10\u001b[0m \u001b[43m    \u001b[49m\u001b[43mcompress\u001b[49m\u001b[38;5;241;43m=\u001b[39;49m\u001b[38;5;28;43;01mTrue\u001b[39;49;00m\u001b[43m,\u001b[49m\n\u001b[1;32m     11\u001b[0m \u001b[43m)\u001b[49m\n",
      "File \u001b[0;32m~/dev/geospacial/mapa/mapa/__init__.py:198\u001b[0m, in \u001b[0;36mconvert_bbox_to_stl\u001b[0;34m(bbox_geometry, as_ascii, model_size, output_file, max_res, z_offset, z_scale, cut_to_format_ratio, split_area_in_tiles, compress, allow_caching, progress_bar)\u001b[0m\n\u001b[1;32m    196\u001b[0m \u001b[38;5;66;03m# fail early in case of missing requirements\u001b[39;00m\n\u001b[1;32m    197\u001b[0m \u001b[38;5;28;01mif\u001b[39;00m bbox_geometry \u001b[38;5;129;01mis\u001b[39;00m \u001b[38;5;28;01mNone\u001b[39;00m:\n\u001b[0;32m--> 198\u001b[0m     \u001b[38;5;28;01mraise\u001b[39;00m \u001b[38;5;167;01mValueError\u001b[39;00m(\u001b[38;5;124m\"\u001b[39m\u001b[38;5;124m⛔️  ERROR: make sure to draw a rectangle on the map first!\u001b[39m\u001b[38;5;124m\"\u001b[39m)\n\u001b[1;32m    200\u001b[0m \u001b[38;5;66;03m# evaluate tile format to fail early in case of invalid input value\u001b[39;00m\n\u001b[1;32m    201\u001b[0m tiles \u001b[38;5;241m=\u001b[39m get_x_y_from_tiles_format(split_area_in_tiles)\n",
      "\u001b[0;31mValueError\u001b[0m: ⛔️  ERROR: make sure to draw a rectangle on the map first!"
     ]
    }
   ],
   "source": [
    "path = convert_bbox_to_stl(\n",
    "    bbox_geometry=drawer.last_draw[\"geometry\"],\n",
    "    output_file=\"mapa_output\",\n",
    "    model_size=200,\n",
    "    z_offset=3.0,\n",
    "    z_scale=2.0,\n",
    "    max_res=False,\n",
    "    cut_to_format_ratio=None,\n",
    "    split_area_in_tiles=\"1x1\",\n",
    "    compress=True,\n",
    ")"
   ]
  },
  {
   "cell_type": "markdown",
   "id": "d29e1ade",
   "metadata": {},
   "source": [
    "<br>\n",
    "<br>\n",
    "<br>\n",
    "<br>\n",
    "\n",
    "For more info on the available arguments, simply print the function docstrings:"
   ]
  },
  {
   "cell_type": "code",
   "execution_count": 4,
   "id": "cd7e9b13",
   "metadata": {},
   "outputs": [
    {
     "name": "stdout",
     "output_type": "stream",
     "text": [
      "\n",
      "    Takes a GeoJSON containing a bounding box as input, fetches the required STAC GeoTIFFs for the\n",
      "    given bounding box and creates a STL file with elevation data from the GeoTIFFs.\n",
      "\n",
      "    Parameters\n",
      "    ----------\n",
      "    bbox_geometry : dict\n",
      "        GeoJSON containing the coordinates of the bounding box, selected on the ipyleaflet widget. Usually the\n",
      "        value of `drawer.last_draw[\"geometry\"]` is used for this.\n",
      "    as_ascii : bool, optional\n",
      "        Save output STL as ascii file. If False, output file will be binary. By default False\n",
      "    model_size : int, optional\n",
      "        Desired size of the (larger side of the) generated 3d model in millimeter. By default 200\n",
      "    output_file : str, optional\n",
      "        Name and path to output file. File ending should not be provided. Mapa will add .zip or .stl depending\n",
      "        on the settings. By default \"output\"\n",
      "    max_res : bool, optional\n",
      "        Whether maximum resolution should be used. Note, that this flag potentially increases compute time\n",
      "        and memory consumption dramatically. The default behavior (i.e. max_res=False) should return 3d models\n",
      "        with sufficient resolution, while the output stl file should be < ~300 MB. By default False\n",
      "    z_offset : Union[None, float], optional\n",
      "        Offset distance in millimeter to be put below the 3d model. Is not influenced by z-scale. Set to None\n",
      "        if you want your model to have the natural offset, corresponding to height above mean sea level.\n",
      "        By default 0.0\n",
      "    z_scale : float, optional\n",
      "        Value to be multiplied to the z-axis elevation data to scale up the height of the model. By default 1.0\n",
      "    cut_to_format_ratio : Union[None, float], optional\n",
      "        Cut the input tiff file to a specified format. Set to `1` if you want the output model to be squared.\n",
      "        Set to `0.5` if you want one side to be half the length of the other side. Omit this flag to keep the\n",
      "        input format. This option is particularly useful when an exact output format ratio is required for\n",
      "        example when planning to put the 3d printed model into a picture frame. Using this option will always\n",
      "        try to cut the shorter side of the input tiff. By default None\n",
      "    split_area_in_tiles : str, optional\n",
      "        Split the selected bounding box into tiles with this option. The allowed format of a given string is\n",
      "        \"nxm\" e.g. \"1x1\", \"2x3\", \"4x4\" or similar, where \"1x1\" would not split at all and result in only\n",
      "        one stl file. If an allowed tile format is specified, `nxm` stl files will be computed. By default \"1x1\"\n",
      "    compress : bool, optional\n",
      "        If enabled, the output stl file(s) will be compressed to a zip file. Compressing is recommended as it\n",
      "        reduces the data volume of typical stl files by a factor of ~4.\n",
      "    allow_caching : bool, optional\n",
      "        Whether caching previous downloaded GeoTIFF files should be enabled/disabled. By default True\n",
      "    progress_bar : Union[None, object], optional\n",
      "        A streamlit progress bar object can be used to indicate the progress of downloading the STAC items. By\n",
      "        default None\n",
      "\n",
      "    Returns\n",
      "    -------\n",
      "    Union[Path, List[Path]]\n",
      "        Path or list of paths to the resulting output file(s) on your local machine.\n",
      "    \n"
     ]
    }
   ],
   "source": [
    "print(convert_bbox_to_stl.__doc__)"
   ]
  },
  {
   "cell_type": "code",
   "execution_count": null,
   "id": "551ff015",
   "metadata": {},
   "outputs": [],
   "source": []
  }
 ],
 "metadata": {
  "kernelspec": {
   "display_name": "Python 3 (ipykernel)",
   "language": "python",
   "name": "python3"
  },
  "language_info": {
   "codemirror_mode": {
    "name": "ipython",
    "version": 3
   },
   "file_extension": ".py",
   "mimetype": "text/x-python",
   "name": "python",
   "nbconvert_exporter": "python",
   "pygments_lexer": "ipython3",
   "version": "3.8.9"
  },
  "vscode": {
   "interpreter": {
    "hash": "4653967cf564b0c4bccf9a10857dea4c49adab62f83d63c49bace7083a3e060e"
   }
  }
 },
 "nbformat": 4,
 "nbformat_minor": 5
}
