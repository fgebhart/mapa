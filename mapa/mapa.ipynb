{
 "cells": [
  {
   "cell_type": "markdown",
   "id": "74f3faa9",
   "metadata": {},
   "source": [
    "# mapa\n",
    "\n",
    "Execute the below cells to draw a rectangle of your choice, from which you want a 3D stl to be created."
   ]
  },
  {
   "cell_type": "code",
   "execution_count": 1,
   "id": "9db38262",
   "metadata": {},
   "outputs": [],
   "source": [
    "from mapa import convert_bbox_to_stl\n",
    "from mapa.map import show_map"
   ]
  },
  {
   "cell_type": "code",
   "execution_count": 2,
   "id": "7eac4bec",
   "metadata": {
    "scrolled": false
   },
   "outputs": [
    {
     "data": {
      "application/vnd.jupyter.widget-view+json": {
       "model_id": "7ed733f936bb45d1b2b354c060566986",
       "version_major": 2,
       "version_minor": 0
      },
      "text/plain": [
       "Map(center=[40.5566, 23.466], controls=(ZoomControl(options=['position', 'zoom_in_text', 'zoom_in_title', 'zoo…"
      ]
     },
     "metadata": {},
     "output_type": "display_data"
    },
    {
     "name": "stdout",
     "output_type": "stream",
     "text": [
      "Rectangle detected, execute next cells to continue!\n"
     ]
    }
   ],
   "source": [
    "m, drawer = show_map()\n",
    "m"
   ]
  },
  {
   "cell_type": "markdown",
   "id": "b9240b0b",
   "metadata": {},
   "source": [
    "⚠️ First draw a rectangle on the above map before executing the next cell!"
   ]
  },
  {
   "cell_type": "code",
   "execution_count": 3,
   "id": "39c8fef3",
   "metadata": {
    "scrolled": true
   },
   "outputs": [
    {
     "name": "stderr",
     "output_type": "stream",
     "text": [
      "INFO:mapa:⏳  converting bounding box to STL file with arguments: {'bbox_geometry': {'type': 'Polygon', 'coordinates': [[[10.571063, 44.255151], [10.571063, 44.357357], [10.752328, 44.357357], [10.752328, 44.255151], [10.571063, 44.255151]]]}, 'as_ascii': False, 'model_size': 150, 'output_file': 'mapa_output', 'max_res': False, 'z_offset': 3.0, 'z_scale': 2.0, 'ensure_squared': False, 'split_area_in_tiles': '1x1', 'compress': False, 'allow_caching': True, 'cache_dir': '/home/fabian/make/mapa/cache/', 'tiles': TileFormat(x=1, y=1)}\n",
      "INFO:mapa.stac:⬇️  fetching 1 stac items...\n",
      "INFO:mapa.stac:🏞  1/1 downloading stac item ALPSMLC30_N044E010_DSM\n"
     ]
    },
    {
     "ename": "HTTPError",
     "evalue": "HTTP Error 409: Public access is not permitted on this storage account.",
     "output_type": "error",
     "traceback": [
      "\u001b[0;31m---------------------------------------------------------------------------\u001b[0m",
      "\u001b[0;31mHTTPError\u001b[0m                                 Traceback (most recent call last)",
      "Cell \u001b[0;32mIn[3], line 1\u001b[0m\n\u001b[0;32m----> 1\u001b[0m path \u001b[38;5;241m=\u001b[39m \u001b[43mconvert_bbox_to_stl\u001b[49m\u001b[43m(\u001b[49m\n\u001b[1;32m      2\u001b[0m \u001b[43m    \u001b[49m\u001b[43mbbox_geometry\u001b[49m\u001b[38;5;241;43m=\u001b[39;49m\u001b[43mdrawer\u001b[49m\u001b[38;5;241;43m.\u001b[39;49m\u001b[43mlast_draw\u001b[49m\u001b[43m[\u001b[49m\u001b[38;5;124;43m\"\u001b[39;49m\u001b[38;5;124;43mgeometry\u001b[39;49m\u001b[38;5;124;43m\"\u001b[39;49m\u001b[43m]\u001b[49m\u001b[43m,\u001b[49m\n\u001b[1;32m      3\u001b[0m \u001b[43m    \u001b[49m\u001b[43moutput_file\u001b[49m\u001b[38;5;241;43m=\u001b[39;49m\u001b[38;5;124;43m\"\u001b[39;49m\u001b[38;5;124;43mmapa_output\u001b[39;49m\u001b[38;5;124;43m\"\u001b[39;49m\u001b[43m,\u001b[49m\n\u001b[1;32m      4\u001b[0m \u001b[43m    \u001b[49m\u001b[43mmodel_size\u001b[49m\u001b[38;5;241;43m=\u001b[39;49m\u001b[38;5;241;43m150\u001b[39;49m\u001b[43m,\u001b[49m\n\u001b[1;32m      5\u001b[0m \u001b[43m    \u001b[49m\u001b[43mz_offset\u001b[49m\u001b[38;5;241;43m=\u001b[39;49m\u001b[38;5;241;43m3.0\u001b[39;49m\u001b[43m,\u001b[49m\n\u001b[1;32m      6\u001b[0m \u001b[43m    \u001b[49m\u001b[43mz_scale\u001b[49m\u001b[38;5;241;43m=\u001b[39;49m\u001b[38;5;241;43m2.0\u001b[39;49m\u001b[43m,\u001b[49m\n\u001b[1;32m      7\u001b[0m \u001b[43m    \u001b[49m\u001b[43mmax_res\u001b[49m\u001b[38;5;241;43m=\u001b[39;49m\u001b[38;5;28;43;01mFalse\u001b[39;49;00m\u001b[43m,\u001b[49m\n\u001b[1;32m      8\u001b[0m \u001b[43m    \u001b[49m\u001b[43mensure_squared\u001b[49m\u001b[38;5;241;43m=\u001b[39;49m\u001b[38;5;28;43;01mFalse\u001b[39;49;00m\u001b[43m,\u001b[49m\n\u001b[1;32m      9\u001b[0m \u001b[43m    \u001b[49m\u001b[43msplit_area_in_tiles\u001b[49m\u001b[38;5;241;43m=\u001b[39;49m\u001b[38;5;124;43m\"\u001b[39;49m\u001b[38;5;124;43m1x1\u001b[39;49m\u001b[38;5;124;43m\"\u001b[39;49m\u001b[43m,\u001b[49m\n\u001b[1;32m     10\u001b[0m \u001b[43m    \u001b[49m\u001b[43mcompress\u001b[49m\u001b[38;5;241;43m=\u001b[39;49m\u001b[38;5;28;43;01mFalse\u001b[39;49;00m\u001b[43m,\u001b[49m\n\u001b[1;32m     11\u001b[0m \u001b[43m    \u001b[49m\u001b[43mcache_dir\u001b[49m\u001b[38;5;241;43m=\u001b[39;49m\u001b[38;5;124;43m\"\u001b[39;49m\u001b[38;5;124;43m/home/fabian/make/mapa/cache/\u001b[39;49m\u001b[38;5;124;43m\"\u001b[39;49m\n\u001b[1;32m     12\u001b[0m \u001b[43m)\u001b[49m\n",
      "File \u001b[0;32m~/dev/mapa/mapa/__init__.py:214\u001b[0m, in \u001b[0;36mconvert_bbox_to_stl\u001b[0;34m(bbox_geometry, as_ascii, model_size, output_file, max_res, z_offset, z_scale, ensure_squared, split_area_in_tiles, compress, allow_caching, cache_dir, progress_bar)\u001b[0m\n\u001b[1;32m    211\u001b[0m     steps \u001b[38;5;241m=\u001b[39m tiles\u001b[38;5;241m.\u001b[39mx \u001b[38;5;241m*\u001b[39m tiles\u001b[38;5;241m.\u001b[39my \u001b[38;5;241m*\u001b[39m \u001b[38;5;241m2\u001b[39m \u001b[38;5;28;01mif\u001b[39;00m compress \u001b[38;5;28;01melse\u001b[39;00m tiles\u001b[38;5;241m.\u001b[39mx \u001b[38;5;241m*\u001b[39m tiles\u001b[38;5;241m.\u001b[39my\n\u001b[1;32m    212\u001b[0m     progress_bar \u001b[38;5;241m=\u001b[39m ProgressBar(progress_bar\u001b[38;5;241m=\u001b[39mprogress_bar, steps\u001b[38;5;241m=\u001b[39msteps)\n\u001b[0;32m--> 214\u001b[0m path_to_tiff \u001b[38;5;241m=\u001b[39m \u001b[43m_get_tiff_for_bbox\u001b[49m\u001b[43m(\u001b[49m\u001b[43mbbox_geometry\u001b[49m\u001b[43m,\u001b[49m\u001b[43m \u001b[49m\u001b[43mallow_caching\u001b[49m\u001b[43m,\u001b[49m\u001b[43m \u001b[49m\u001b[43mPath\u001b[49m\u001b[43m(\u001b[49m\u001b[43mcache_dir\u001b[49m\u001b[43m)\u001b[49m\u001b[43m,\u001b[49m\u001b[43m \u001b[49m\u001b[43mprogress_bar\u001b[49m\u001b[43m)\u001b[49m\n\u001b[1;32m    215\u001b[0m tiff \u001b[38;5;241m=\u001b[39m rio\u001b[38;5;241m.\u001b[39mopen(path_to_tiff)\n\u001b[1;32m    216\u001b[0m elevation_scale \u001b[38;5;241m=\u001b[39m determine_elevation_scale(tiff, model_size)\n",
      "File \u001b[0;32m~/dev/mapa/mapa/__init__.py:130\u001b[0m, in \u001b[0;36m_get_tiff_for_bbox\u001b[0;34m(bbox_geojson, allow_caching, cache_dir, progress_bar)\u001b[0m\n\u001b[1;32m    128\u001b[0m     \u001b[38;5;28;01mreturn\u001b[39;00m path_to_clipped_tiff(bbox_hash, cache_dir)\n\u001b[1;32m    129\u001b[0m \u001b[38;5;28;01melse\u001b[39;00m:\n\u001b[0;32m--> 130\u001b[0m     \u001b[38;5;28;01mreturn\u001b[39;00m \u001b[43m_fetch_merge_and_clip_tiffs\u001b[49m\u001b[43m(\u001b[49m\u001b[43mbbox_geojson\u001b[49m\u001b[43m,\u001b[49m\u001b[43m \u001b[49m\u001b[43mbbox_hash\u001b[49m\u001b[43m,\u001b[49m\u001b[43m \u001b[49m\u001b[43mallow_caching\u001b[49m\u001b[43m,\u001b[49m\u001b[43m \u001b[49m\u001b[43mcache_dir\u001b[49m\u001b[43m,\u001b[49m\u001b[43m \u001b[49m\u001b[43mprogress_bar\u001b[49m\u001b[43m)\u001b[49m\n",
      "File \u001b[0;32m~/dev/mapa/mapa/__init__.py:114\u001b[0m, in \u001b[0;36m_fetch_merge_and_clip_tiffs\u001b[0;34m(bbox_geojson, bbox_hash, allow_caching, cache_dir, progress_bar)\u001b[0m\n\u001b[1;32m    107\u001b[0m \u001b[38;5;28;01mdef\u001b[39;00m \u001b[38;5;21m_fetch_merge_and_clip_tiffs\u001b[39m(\n\u001b[1;32m    108\u001b[0m     bbox_geojson: \u001b[38;5;28mdict\u001b[39m,\n\u001b[1;32m    109\u001b[0m     bbox_hash: \u001b[38;5;28mstr\u001b[39m,\n\u001b[0;32m   (...)\u001b[0m\n\u001b[1;32m    112\u001b[0m     progress_bar: Union[\u001b[38;5;28;01mNone\u001b[39;00m, ProgressBar] \u001b[38;5;241m=\u001b[39m \u001b[38;5;28;01mNone\u001b[39;00m,\n\u001b[1;32m    113\u001b[0m ) \u001b[38;5;241m-\u001b[39m\u001b[38;5;241m>\u001b[39m Path:\n\u001b[0;32m--> 114\u001b[0m     tiffs \u001b[38;5;241m=\u001b[39m \u001b[43mfetch_stac_items_for_bbox\u001b[49m\u001b[43m(\u001b[49m\u001b[43mbbox_geojson\u001b[49m\u001b[43m,\u001b[49m\u001b[43m \u001b[49m\u001b[43mallow_caching\u001b[49m\u001b[43m,\u001b[49m\u001b[43m \u001b[49m\u001b[43mcache_dir\u001b[49m\u001b[43m,\u001b[49m\u001b[43m \u001b[49m\u001b[43mprogress_bar\u001b[49m\u001b[43m)\u001b[49m\n\u001b[1;32m    115\u001b[0m     \u001b[38;5;28;01mif\u001b[39;00m \u001b[38;5;28mlen\u001b[39m(tiffs) \u001b[38;5;241m>\u001b[39m \u001b[38;5;241m1\u001b[39m:\n\u001b[1;32m    116\u001b[0m         merged_tiff \u001b[38;5;241m=\u001b[39m merge_tiffs(tiffs, bbox_hash, cache_dir)\n",
      "File \u001b[0;32m~/dev/mapa/mapa/stac.py:59\u001b[0m, in \u001b[0;36mfetch_stac_items_for_bbox\u001b[0;34m(geojson, allow_caching, cache_dir, progress_bar)\u001b[0m\n\u001b[1;32m     57\u001b[0m files \u001b[38;5;241m=\u001b[39m []\n\u001b[1;32m     58\u001b[0m \u001b[38;5;28;01mfor\u001b[39;00m cnt, item \u001b[38;5;129;01min\u001b[39;00m \u001b[38;5;28menumerate\u001b[39m(items):\n\u001b[0;32m---> 59\u001b[0m     files\u001b[38;5;241m.\u001b[39mappend(\u001b[43m_get_tiff_file\u001b[49m\u001b[43m(\u001b[49m\u001b[43mitem\u001b[49m\u001b[43m,\u001b[49m\u001b[43m \u001b[49m\u001b[43mallow_caching\u001b[49m\u001b[43m,\u001b[49m\u001b[43m \u001b[49m\u001b[43mcache_dir\u001b[49m\u001b[43m,\u001b[49m\u001b[43m \u001b[49m\u001b[43mcnt\u001b[49m\u001b[43m \u001b[49m\u001b[38;5;241;43m+\u001b[39;49m\u001b[43m \u001b[49m\u001b[38;5;241;43m1\u001b[39;49m\u001b[43m,\u001b[49m\u001b[43m \u001b[49m\u001b[43mn\u001b[49m\u001b[43m)\u001b[49m)\n\u001b[1;32m     60\u001b[0m     \u001b[38;5;28;01mif\u001b[39;00m progress_bar:\n\u001b[1;32m     61\u001b[0m         progress_bar\u001b[38;5;241m.\u001b[39mstep()\n",
      "File \u001b[0;32m~/dev/mapa/mapa/stac.py:42\u001b[0m, in \u001b[0;36m_get_tiff_file\u001b[0;34m(stac_item, allow_caching, cache_dir, count, max)\u001b[0m\n\u001b[1;32m     40\u001b[0m \u001b[38;5;28;01melse\u001b[39;00m:\n\u001b[1;32m     41\u001b[0m     log\u001b[38;5;241m.\u001b[39minfo(\u001b[38;5;124mf\u001b[39m\u001b[38;5;124m\"\u001b[39m\u001b[38;5;124m🏞  \u001b[39m\u001b[38;5;132;01m{\u001b[39;00mcount\u001b[38;5;132;01m}\u001b[39;00m\u001b[38;5;124m/\u001b[39m\u001b[38;5;132;01m{\u001b[39;00m\u001b[38;5;28mmax\u001b[39m\u001b[38;5;132;01m}\u001b[39;00m\u001b[38;5;124m downloading stac item \u001b[39m\u001b[38;5;132;01m{\u001b[39;00mstac_item\u001b[38;5;241m.\u001b[39mid\u001b[38;5;132;01m}\u001b[39;00m\u001b[38;5;124m\"\u001b[39m)\n\u001b[0;32m---> 42\u001b[0m     \u001b[38;5;28;01mreturn\u001b[39;00m \u001b[43m_download_file\u001b[49m\u001b[43m(\u001b[49m\u001b[43mstac_item\u001b[49m\u001b[38;5;241;43m.\u001b[39;49m\u001b[43massets\u001b[49m\u001b[43m[\u001b[49m\u001b[38;5;124;43m\"\u001b[39;49m\u001b[38;5;124;43mdata\u001b[39;49m\u001b[38;5;124;43m\"\u001b[39;49m\u001b[43m]\u001b[49m\u001b[38;5;241;43m.\u001b[39;49m\u001b[43mhref\u001b[49m\u001b[43m,\u001b[49m\u001b[43m \u001b[49m\u001b[43mtiff\u001b[49m\u001b[43m)\u001b[49m\n",
      "File \u001b[0;32m~/dev/mapa/mapa/stac.py:18\u001b[0m, in \u001b[0;36m_download_file\u001b[0;34m(url, local_file)\u001b[0m\n\u001b[1;32m     17\u001b[0m \u001b[38;5;28;01mdef\u001b[39;00m \u001b[38;5;21m_download_file\u001b[39m(url: \u001b[38;5;28mstr\u001b[39m, local_file: Path) \u001b[38;5;241m-\u001b[39m\u001b[38;5;241m>\u001b[39m Path:\n\u001b[0;32m---> 18\u001b[0m     \u001b[43mrequest\u001b[49m\u001b[38;5;241;43m.\u001b[39;49m\u001b[43murlretrieve\u001b[49m\u001b[43m(\u001b[49m\u001b[43murl\u001b[49m\u001b[43m,\u001b[49m\u001b[43m \u001b[49m\u001b[43mlocal_file\u001b[49m\u001b[43m)\u001b[49m\n\u001b[1;32m     19\u001b[0m     \u001b[38;5;28;01mreturn\u001b[39;00m local_file\n",
      "File \u001b[0;32m/opt/homebrew/Cellar/python@3.10/3.10.14/Frameworks/Python.framework/Versions/3.10/lib/python3.10/urllib/request.py:241\u001b[0m, in \u001b[0;36murlretrieve\u001b[0;34m(url, filename, reporthook, data)\u001b[0m\n\u001b[1;32m    224\u001b[0m \u001b[38;5;250m\u001b[39m\u001b[38;5;124;03m\"\"\"\u001b[39;00m\n\u001b[1;32m    225\u001b[0m \u001b[38;5;124;03mRetrieve a URL into a temporary location on disk.\u001b[39;00m\n\u001b[1;32m    226\u001b[0m \n\u001b[0;32m   (...)\u001b[0m\n\u001b[1;32m    237\u001b[0m \u001b[38;5;124;03mdata file as well as the resulting HTTPMessage object.\u001b[39;00m\n\u001b[1;32m    238\u001b[0m \u001b[38;5;124;03m\"\"\"\u001b[39;00m\n\u001b[1;32m    239\u001b[0m url_type, path \u001b[38;5;241m=\u001b[39m _splittype(url)\n\u001b[0;32m--> 241\u001b[0m \u001b[38;5;28;01mwith\u001b[39;00m contextlib\u001b[38;5;241m.\u001b[39mclosing(\u001b[43murlopen\u001b[49m\u001b[43m(\u001b[49m\u001b[43murl\u001b[49m\u001b[43m,\u001b[49m\u001b[43m \u001b[49m\u001b[43mdata\u001b[49m\u001b[43m)\u001b[49m) \u001b[38;5;28;01mas\u001b[39;00m fp:\n\u001b[1;32m    242\u001b[0m     headers \u001b[38;5;241m=\u001b[39m fp\u001b[38;5;241m.\u001b[39minfo()\n\u001b[1;32m    244\u001b[0m     \u001b[38;5;66;03m# Just return the local path and the \"headers\" for file://\u001b[39;00m\n\u001b[1;32m    245\u001b[0m     \u001b[38;5;66;03m# URLs. No sense in performing a copy unless requested.\u001b[39;00m\n",
      "File \u001b[0;32m/opt/homebrew/Cellar/python@3.10/3.10.14/Frameworks/Python.framework/Versions/3.10/lib/python3.10/urllib/request.py:216\u001b[0m, in \u001b[0;36murlopen\u001b[0;34m(url, data, timeout, cafile, capath, cadefault, context)\u001b[0m\n\u001b[1;32m    214\u001b[0m \u001b[38;5;28;01melse\u001b[39;00m:\n\u001b[1;32m    215\u001b[0m     opener \u001b[38;5;241m=\u001b[39m _opener\n\u001b[0;32m--> 216\u001b[0m \u001b[38;5;28;01mreturn\u001b[39;00m \u001b[43mopener\u001b[49m\u001b[38;5;241;43m.\u001b[39;49m\u001b[43mopen\u001b[49m\u001b[43m(\u001b[49m\u001b[43murl\u001b[49m\u001b[43m,\u001b[49m\u001b[43m \u001b[49m\u001b[43mdata\u001b[49m\u001b[43m,\u001b[49m\u001b[43m \u001b[49m\u001b[43mtimeout\u001b[49m\u001b[43m)\u001b[49m\n",
      "File \u001b[0;32m/opt/homebrew/Cellar/python@3.10/3.10.14/Frameworks/Python.framework/Versions/3.10/lib/python3.10/urllib/request.py:525\u001b[0m, in \u001b[0;36mOpenerDirector.open\u001b[0;34m(self, fullurl, data, timeout)\u001b[0m\n\u001b[1;32m    523\u001b[0m \u001b[38;5;28;01mfor\u001b[39;00m processor \u001b[38;5;129;01min\u001b[39;00m \u001b[38;5;28mself\u001b[39m\u001b[38;5;241m.\u001b[39mprocess_response\u001b[38;5;241m.\u001b[39mget(protocol, []):\n\u001b[1;32m    524\u001b[0m     meth \u001b[38;5;241m=\u001b[39m \u001b[38;5;28mgetattr\u001b[39m(processor, meth_name)\n\u001b[0;32m--> 525\u001b[0m     response \u001b[38;5;241m=\u001b[39m \u001b[43mmeth\u001b[49m\u001b[43m(\u001b[49m\u001b[43mreq\u001b[49m\u001b[43m,\u001b[49m\u001b[43m \u001b[49m\u001b[43mresponse\u001b[49m\u001b[43m)\u001b[49m\n\u001b[1;32m    527\u001b[0m \u001b[38;5;28;01mreturn\u001b[39;00m response\n",
      "File \u001b[0;32m/opt/homebrew/Cellar/python@3.10/3.10.14/Frameworks/Python.framework/Versions/3.10/lib/python3.10/urllib/request.py:634\u001b[0m, in \u001b[0;36mHTTPErrorProcessor.http_response\u001b[0;34m(self, request, response)\u001b[0m\n\u001b[1;32m    631\u001b[0m \u001b[38;5;66;03m# According to RFC 2616, \"2xx\" code indicates that the client's\u001b[39;00m\n\u001b[1;32m    632\u001b[0m \u001b[38;5;66;03m# request was successfully received, understood, and accepted.\u001b[39;00m\n\u001b[1;32m    633\u001b[0m \u001b[38;5;28;01mif\u001b[39;00m \u001b[38;5;129;01mnot\u001b[39;00m (\u001b[38;5;241m200\u001b[39m \u001b[38;5;241m<\u001b[39m\u001b[38;5;241m=\u001b[39m code \u001b[38;5;241m<\u001b[39m \u001b[38;5;241m300\u001b[39m):\n\u001b[0;32m--> 634\u001b[0m     response \u001b[38;5;241m=\u001b[39m \u001b[38;5;28;43mself\u001b[39;49m\u001b[38;5;241;43m.\u001b[39;49m\u001b[43mparent\u001b[49m\u001b[38;5;241;43m.\u001b[39;49m\u001b[43merror\u001b[49m\u001b[43m(\u001b[49m\n\u001b[1;32m    635\u001b[0m \u001b[43m        \u001b[49m\u001b[38;5;124;43m'\u001b[39;49m\u001b[38;5;124;43mhttp\u001b[39;49m\u001b[38;5;124;43m'\u001b[39;49m\u001b[43m,\u001b[49m\u001b[43m \u001b[49m\u001b[43mrequest\u001b[49m\u001b[43m,\u001b[49m\u001b[43m \u001b[49m\u001b[43mresponse\u001b[49m\u001b[43m,\u001b[49m\u001b[43m \u001b[49m\u001b[43mcode\u001b[49m\u001b[43m,\u001b[49m\u001b[43m \u001b[49m\u001b[43mmsg\u001b[49m\u001b[43m,\u001b[49m\u001b[43m \u001b[49m\u001b[43mhdrs\u001b[49m\u001b[43m)\u001b[49m\n\u001b[1;32m    637\u001b[0m \u001b[38;5;28;01mreturn\u001b[39;00m response\n",
      "File \u001b[0;32m/opt/homebrew/Cellar/python@3.10/3.10.14/Frameworks/Python.framework/Versions/3.10/lib/python3.10/urllib/request.py:563\u001b[0m, in \u001b[0;36mOpenerDirector.error\u001b[0;34m(self, proto, *args)\u001b[0m\n\u001b[1;32m    561\u001b[0m \u001b[38;5;28;01mif\u001b[39;00m http_err:\n\u001b[1;32m    562\u001b[0m     args \u001b[38;5;241m=\u001b[39m (\u001b[38;5;28mdict\u001b[39m, \u001b[38;5;124m'\u001b[39m\u001b[38;5;124mdefault\u001b[39m\u001b[38;5;124m'\u001b[39m, \u001b[38;5;124m'\u001b[39m\u001b[38;5;124mhttp_error_default\u001b[39m\u001b[38;5;124m'\u001b[39m) \u001b[38;5;241m+\u001b[39m orig_args\n\u001b[0;32m--> 563\u001b[0m     \u001b[38;5;28;01mreturn\u001b[39;00m \u001b[38;5;28;43mself\u001b[39;49m\u001b[38;5;241;43m.\u001b[39;49m\u001b[43m_call_chain\u001b[49m\u001b[43m(\u001b[49m\u001b[38;5;241;43m*\u001b[39;49m\u001b[43margs\u001b[49m\u001b[43m)\u001b[49m\n",
      "File \u001b[0;32m/opt/homebrew/Cellar/python@3.10/3.10.14/Frameworks/Python.framework/Versions/3.10/lib/python3.10/urllib/request.py:496\u001b[0m, in \u001b[0;36mOpenerDirector._call_chain\u001b[0;34m(self, chain, kind, meth_name, *args)\u001b[0m\n\u001b[1;32m    494\u001b[0m \u001b[38;5;28;01mfor\u001b[39;00m handler \u001b[38;5;129;01min\u001b[39;00m handlers:\n\u001b[1;32m    495\u001b[0m     func \u001b[38;5;241m=\u001b[39m \u001b[38;5;28mgetattr\u001b[39m(handler, meth_name)\n\u001b[0;32m--> 496\u001b[0m     result \u001b[38;5;241m=\u001b[39m \u001b[43mfunc\u001b[49m\u001b[43m(\u001b[49m\u001b[38;5;241;43m*\u001b[39;49m\u001b[43margs\u001b[49m\u001b[43m)\u001b[49m\n\u001b[1;32m    497\u001b[0m     \u001b[38;5;28;01mif\u001b[39;00m result \u001b[38;5;129;01mis\u001b[39;00m \u001b[38;5;129;01mnot\u001b[39;00m \u001b[38;5;28;01mNone\u001b[39;00m:\n\u001b[1;32m    498\u001b[0m         \u001b[38;5;28;01mreturn\u001b[39;00m result\n",
      "File \u001b[0;32m/opt/homebrew/Cellar/python@3.10/3.10.14/Frameworks/Python.framework/Versions/3.10/lib/python3.10/urllib/request.py:643\u001b[0m, in \u001b[0;36mHTTPDefaultErrorHandler.http_error_default\u001b[0;34m(self, req, fp, code, msg, hdrs)\u001b[0m\n\u001b[1;32m    642\u001b[0m \u001b[38;5;28;01mdef\u001b[39;00m \u001b[38;5;21mhttp_error_default\u001b[39m(\u001b[38;5;28mself\u001b[39m, req, fp, code, msg, hdrs):\n\u001b[0;32m--> 643\u001b[0m     \u001b[38;5;28;01mraise\u001b[39;00m HTTPError(req\u001b[38;5;241m.\u001b[39mfull_url, code, msg, hdrs, fp)\n",
      "\u001b[0;31mHTTPError\u001b[0m: HTTP Error 409: Public access is not permitted on this storage account."
     ]
    }
   ],
   "source": [
    "path = convert_bbox_to_stl(\n",
    "    bbox_geometry=drawer.last_draw[\"geometry\"],\n",
    "    output_file=\"mapa_output\",\n",
    "    model_size=150,\n",
    "    z_offset=3.0,\n",
    "    z_scale=2.0,\n",
    "    max_res=False,\n",
    "    ensure_squared=False,\n",
    "    split_area_in_tiles=\"1x1\",\n",
    "    compress=False,\n",
    "    cache_dir=\"/home/fabian/make/mapa/cache/\",\n",
    ")"
   ]
  },
  {
   "cell_type": "markdown",
   "id": "d29e1ade",
   "metadata": {},
   "source": [
    "<br>\n",
    "<br>\n",
    "<br>\n",
    "<br>\n",
    "\n",
    "For more info on the available arguments, simply print the function docstrings:"
   ]
  },
  {
   "cell_type": "code",
   "execution_count": 4,
   "id": "cd7e9b13",
   "metadata": {},
   "outputs": [
    {
     "name": "stdout",
     "output_type": "stream",
     "text": [
      "\n",
      "    Takes a GeoJSON containing a bounding box as input, fetches the required STAC GeoTIFFs for the\n",
      "    given bounding box and creates a STL file with elevation data from the GeoTIFFs.\n",
      "\n",
      "    Parameters\n",
      "    ----------\n",
      "    bbox_geometry : dict\n",
      "        GeoJSON containing the coordinates of the bounding box, selected on the ipyleaflet widget. Usually the\n",
      "        value of `drawer.last_draw[\"geometry\"]` is used for this.\n",
      "    as_ascii : bool, optional\n",
      "        Save output STL as ascii file. If False, output file will be binary. By default False\n",
      "    model_size : int, optional\n",
      "        Desired size of the (larger side of the) generated 3d model in millimeter. By default 200\n",
      "    output_file : str, optional\n",
      "        Name and path to output file. File ending should not be provided. Mapa will add .zip or .stl depending\n",
      "        on the settings. By default \"output\"\n",
      "    max_res : bool, optional\n",
      "        Whether maximum resolution should be used. Note, that this flag potentially increases compute time\n",
      "        and memory consumption dramatically. The default behavior (i.e. max_res=False) should return 3d models\n",
      "        with sufficient resolution, while the output stl file should be < ~300 MB. By default False\n",
      "    z_offset : Union[None, float], optional\n",
      "        Offset distance in millimeter to be put below the 3d model. Is not influenced by z-scale. Set to None\n",
      "        if you want your model to have the natural offset, corresponding to height above mean sea level.\n",
      "        By default 0.0\n",
      "    z_scale : float, optional\n",
      "        Value to be multiplied to the z-axis elevation data to scale up the height of the model. By default 1.0\n",
      "    ensure_squared : bool, optional\n",
      "        Boolean flag to toggle whether the output model should be squared in x- and y-dimension. When enabled\n",
      "        it will remove pixels from one side to ensure same length for both sides. By default False\n",
      "    split_area_in_tiles : str, optional\n",
      "        Split the selected bounding box into tiles with this option. The allowed format of a given string is\n",
      "        \"nxm\" e.g. \"1x1\", \"2x3\", \"4x4\" or similar, where \"1x1\" would not split at all and result in only\n",
      "        one stl file. If an allowed tile format is specified, `nxm` stl files will be computed. By default \"1x1\"\n",
      "    compress : bool, optional\n",
      "        If enabled, the output stl file(s) will be compressed to a zip file. Compressing is recommended as it\n",
      "        reduces the data volume of typical stl files by a factor of ~4.\n",
      "    allow_caching : bool, optional\n",
      "        Whether caching previous downloaded GeoTIFF files should be enabled/disabled. By default True\n",
      "    cache_dir: Union[Path, str]\n",
      "        Path to a directory which should be used as local cache. This is helpful when intermediary tiff files\n",
      "        should be persisted even after the temp directory gets cleaned-up by e.g. a restart. By default TMPDIR\n",
      "    progress_bar : Union[None, object], optional\n",
      "        A streamlit progress bar object can be used to indicate the progress of downloading the STAC items. By\n",
      "        default None\n",
      "\n",
      "    Returns\n",
      "    -------\n",
      "    Union[Path, List[Path]]\n",
      "        Path or list of paths to the resulting output file(s) on your local machine.\n",
      "    \n"
     ]
    }
   ],
   "source": [
    "print(convert_bbox_to_stl.__doc__)"
   ]
  },
  {
   "cell_type": "code",
   "execution_count": null,
   "id": "551ff015",
   "metadata": {},
   "outputs": [],
   "source": []
  }
 ],
 "metadata": {
  "kernelspec": {
   "display_name": "Python 3 (ipykernel)",
   "language": "python",
   "name": "python3"
  },
  "language_info": {
   "codemirror_mode": {
    "name": "ipython",
    "version": 3
   },
   "file_extension": ".py",
   "mimetype": "text/x-python",
   "name": "python",
   "nbconvert_exporter": "python",
   "pygments_lexer": "ipython3",
   "version": "3.10.14"
  },
  "vscode": {
   "interpreter": {
    "hash": "b180940d96842eeb51e90b9226d375656a34d24cb9662ea3131cf2ed08dd630d"
   }
  }
 },
 "nbformat": 4,
 "nbformat_minor": 5
}
