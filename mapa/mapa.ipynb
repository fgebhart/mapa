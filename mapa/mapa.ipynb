{
 "cells": [
  {
   "cell_type": "markdown",
   "id": "74f3faa9",
   "metadata": {},
   "source": [
    "# mapa\n",
    "\n",
    "Execute the below cells to draw a rectangle of your choice, from which you want a 3D stl to be created."
   ]
  },
  {
   "cell_type": "code",
   "execution_count": 1,
   "id": "9db38262",
   "metadata": {},
   "outputs": [],
   "source": [
    "from mapa import convert_bbox_to_stl\n",
    "from mapa.map import show_map"
   ]
  },
  {
   "cell_type": "code",
   "execution_count": 2,
   "id": "7eac4bec",
   "metadata": {
    "scrolled": false
   },
   "outputs": [
    {
     "data": {
      "application/vnd.jupyter.widget-view+json": {
       "model_id": "e29f8fff53b4431c93fc194ba59f7140",
       "version_major": 2,
       "version_minor": 0
      },
      "text/plain": [
       "Map(center=[40.5566, 23.466], controls=(ZoomControl(options=['position', 'zoom_in_text', 'zoom_in_title', 'zoo…"
      ]
     },
     "metadata": {},
     "output_type": "display_data"
    },
    {
     "name": "stdout",
     "output_type": "stream",
     "text": [
      "Rectangle detected, execute next cells to continue!\n"
     ]
    }
   ],
   "source": [
    "m, drawer = show_map()\n",
    "m"
   ]
  },
  {
   "cell_type": "markdown",
   "id": "b9240b0b",
   "metadata": {},
   "source": [
    "⚠️ First draw a rectangle on the above map before executing the next cell!"
   ]
  },
  {
   "cell_type": "code",
   "execution_count": 3,
   "id": "39c8fef3",
   "metadata": {
    "scrolled": true
   },
   "outputs": [
    {
     "name": "stdout",
     "output_type": "stream",
     "text": [
      "⏳  converting bounding box to STL file... \n",
      "\n",
      "⬇️  fetching 2 stac items...\n",
      "🚀  using cached stac item ALPSMLC30_N046E009_DSM  ✅ (0.0s)\n",
      "🚀  using cached stac item ALPSMLC30_N045E009_DSM  ✅ (0.0s)\n",
      "🔪  clipping region of interest...                 ✅ (0.1s)            \n",
      "🔍  reducing image resolution...                   ✅ (0.0s)            \n",
      "🗺  creating base raster for tiff...               ✅ (0.2s)            \n",
      "⛰  computing triangles of 3d surface...           ✅ (0.1s)            \n",
      "📐  computing triangles of body sides...           ✅ (0.2s)            \n",
      "💾  saving data to stl file...                     ✅ (0.7s)            \n",
      "\n",
      "🎉  successfully generated STL file: /Users/ppqw/dev/geospacial/mapa/mapa/output.stl\n"
     ]
    }
   ],
   "source": [
    "stl_file_name = \"output.stl\"\n",
    "\n",
    "path = convert_bbox_to_stl(\n",
    "    bbox_geometry=drawer.last_draw[\"geometry\"],\n",
    "    output_file=stl_file_name,  # path to output stl file\n",
    "    model_size=200,             # in millimeter\n",
    "    z_offset=3.0,               # in millimeter\n",
    "    z_scale=3.0,                # factor to scale z-axis with\n",
    "    max_res=False,              # whether to use maximum resolution, `True` might consume a lot of time and memory\n",
    "    make_square=False,          # cuts longer side of the input bbox to get a square\n",
    ")"
   ]
  }
 ],
 "metadata": {
  "kernelspec": {
   "display_name": "Python 3 (ipykernel)",
   "language": "python",
   "name": "python3"
  },
  "language_info": {
   "codemirror_mode": {
    "name": "ipython",
    "version": 3
   },
   "file_extension": ".py",
   "mimetype": "text/x-python",
   "name": "python",
   "nbconvert_exporter": "python",
   "pygments_lexer": "ipython3",
   "version": "3.8.9"
  }
 },
 "nbformat": 4,
 "nbformat_minor": 5
}
