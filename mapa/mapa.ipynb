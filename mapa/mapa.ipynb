{
 "cells": [
  {
   "cell_type": "markdown",
   "id": "74f3faa9",
   "metadata": {},
   "source": [
    "# mapa\n",
    "\n",
    "Execute the below cells to draw a rectangle of your choice, from which you want a 3D stl to be created."
   ]
  },
  {
   "cell_type": "code",
   "execution_count": 1,
   "id": "9db38262",
   "metadata": {},
   "outputs": [],
   "source": [
    "from mapa import create_stl_for_bbox\n",
    "from mapa.map import show_map"
   ]
  },
  {
   "cell_type": "code",
   "execution_count": 2,
   "id": "7eac4bec",
   "metadata": {
    "scrolled": false
   },
   "outputs": [
    {
     "data": {
      "application/vnd.jupyter.widget-view+json": {
       "model_id": "35f380dc46ef48569c75ee954c7db798",
       "version_major": 2,
       "version_minor": 0
      },
      "text/plain": [
       "Map(center=[40.5566, 23.466], controls=(ZoomControl(options=['position', 'zoom_in_text', 'zoom_in_title', 'zoo…"
      ]
     },
     "metadata": {},
     "output_type": "display_data"
    },
    {
     "name": "stdout",
     "output_type": "stream",
     "text": [
      "Rectangle detected, execute next cells to continue!\n"
     ]
    }
   ],
   "source": [
    "m, drawer = show_map()\n",
    "m"
   ]
  },
  {
   "cell_type": "markdown",
   "id": "b9240b0b",
   "metadata": {},
   "source": [
    "⚠️ First draw a rectangle on the above map before executing the next cell!"
   ]
  },
  {
   "cell_type": "code",
   "execution_count": 4,
   "id": "39c8fef3",
   "metadata": {
    "scrolled": true
   },
   "outputs": [
    {
     "name": "stdout",
     "output_type": "stream",
     "text": [
      "⏳  converting bounding box to STL file... \n",
      "\n",
      "🚀  using cached tiff...                           ✅ (0.0s)\n",
      "🔍  reducing image resolution...                   ✅ (0.1s)            \n",
      "🗺  creating base raster for tiff...               ✅ (0.0s)            \n",
      "⛰  computing triangles of 3d surface...           ✅ (0.2s)            \n",
      "📐  computing triangles of body sides...           ✅ (0.4s)            \n",
      "💾  saving data to stl file...                     ✅ (1.0s)            \n",
      "\n",
      "🎉  successfully generated STL file: /Users/ppqw/dev/geospacial/mapa/mapa/alps.stl\n"
     ]
    }
   ],
   "source": [
    "stl_file_name = \"alps.stl\"\n",
    "\n",
    "path = create_stl_for_bbox(\n",
    "    bbox_geometry=drawer.last_draw[\"geometry\"],\n",
    "    output_file=stl_file_name,\n",
    "    model_size=200,             # in millimeter\n",
    "    z_offset=3.0,               # in millimeter\n",
    "    z_scale=3.0,\n",
    "    max_res=False,\n",
    "    make_square=False,\n",
    ")"
   ]
  },
  {
   "cell_type": "code",
   "execution_count": null,
   "id": "63dc3189",
   "metadata": {},
   "outputs": [],
   "source": []
  }
 ],
 "metadata": {
  "kernelspec": {
   "display_name": "Python 3 (ipykernel)",
   "language": "python",
   "name": "python3"
  },
  "language_info": {
   "codemirror_mode": {
    "name": "ipython",
    "version": 3
   },
   "file_extension": ".py",
   "mimetype": "text/x-python",
   "name": "python",
   "nbconvert_exporter": "python",
   "pygments_lexer": "ipython3",
   "version": "3.8.9"
  }
 },
 "nbformat": 4,
 "nbformat_minor": 5
}
